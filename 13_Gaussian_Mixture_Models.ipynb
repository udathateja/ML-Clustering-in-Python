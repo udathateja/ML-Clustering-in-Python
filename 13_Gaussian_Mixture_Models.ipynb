{
  "nbformat": 4,
  "nbformat_minor": 0,
  "metadata": {
    "colab": {
      "name": "13 Gaussian Mixture Models.ipynb",
      "provenance": [],
      "collapsed_sections": [],
      "authorship_tag": "ABX9TyOVF8LT8xJJ0CfWc3YSAH5/",
      "include_colab_link": true
    },
    "kernelspec": {
      "name": "python3",
      "display_name": "Python 3"
    }
  },
  "cells": [
    {
      "cell_type": "markdown",
      "metadata": {
        "id": "view-in-github",
        "colab_type": "text"
      },
      "source": [
        "<a href=\"https://colab.research.google.com/github/sandipanpaul21/ML-Clustering-in-Python/blob/master/13_Gaussian_Mixture_Models.ipynb\" target=\"_parent\"><img src=\"https://colab.research.google.com/assets/colab-badge.svg\" alt=\"Open In Colab\"/></a>"
      ]
    },
    {
      "cell_type": "code",
      "metadata": {
        "id": "OEVZB2KYH3X3",
        "colab_type": "code",
        "colab": {}
      },
      "source": [
        "# Gaussian Mixture Model\n",
        "\n",
        "# Gaussian Mixture Models are probabilistic models\n",
        "# It use the soft clustering approach for distributing the points in different clusters\n",
        "# Gaussian Mixture Models (GMMs) assume that there are a certain number of Gaussian distributions, \n",
        "# and each of these distributions represent a cluster.\n",
        "# Hence, a Gaussian Mixture Model tends to group the data points belonging to a single distribution together.\n",
        "\n",
        "# Silhouette Score\n",
        "# Clusters are well apart from each other as the silhouette score is closer to 1\n",
        "# Silhouette Coefficient score is a metric used to calculate the goodness of a clustering technique \n",
        "# Its value ranges from -1 to 1.\n",
        "# 1: Means clusters are well apart from each other and clearly distinguished.\n",
        "# 0: Means clusters are indifferent, or we can say that the distance between clusters is not significant.\n",
        "# -1: Means clusters are assigned in the wrong way."
      ],
      "execution_count": 1,
      "outputs": []
    },
    {
      "cell_type": "code",
      "metadata": {
        "id": "qcrOZvxZDrFS",
        "colab_type": "code",
        "colab": {}
      },
      "source": [
        "# Importing Libraries\n",
        "\n",
        "from sklearn import datasets\n",
        "import matplotlib.pyplot as plt\n",
        "from sklearn.cluster import KMeans\n",
        "from sklearn.datasets import load_iris\n",
        "import numpy as np\n",
        "import pandas as pd\n",
        "from sklearn.metrics import silhouette_score"
      ],
      "execution_count": 2,
      "outputs": []
    },
    {
      "cell_type": "code",
      "metadata": {
        "id": "IgadKpnrSlNM",
        "colab_type": "code",
        "colab": {
          "base_uri": "https://localhost:8080/",
          "height": 204
        },
        "outputId": "c9c71096-bc23-4d09-f598-20e3b2b27287"
      },
      "source": [
        "# Loading the Dataset\n",
        "\n",
        "iris = datasets.load_iris()\n",
        "iris_data = pd.DataFrame(iris.data)\n",
        "iris_data.columns = iris.feature_names\n",
        "iris_data['Type']=iris.target\n",
        "iris_data.head()"
      ],
      "execution_count": 3,
      "outputs": [
        {
          "output_type": "execute_result",
          "data": {
            "text/html": [
              "<div>\n",
              "<style scoped>\n",
              "    .dataframe tbody tr th:only-of-type {\n",
              "        vertical-align: middle;\n",
              "    }\n",
              "\n",
              "    .dataframe tbody tr th {\n",
              "        vertical-align: top;\n",
              "    }\n",
              "\n",
              "    .dataframe thead th {\n",
              "        text-align: right;\n",
              "    }\n",
              "</style>\n",
              "<table border=\"1\" class=\"dataframe\">\n",
              "  <thead>\n",
              "    <tr style=\"text-align: right;\">\n",
              "      <th></th>\n",
              "      <th>sepal length (cm)</th>\n",
              "      <th>sepal width (cm)</th>\n",
              "      <th>petal length (cm)</th>\n",
              "      <th>petal width (cm)</th>\n",
              "      <th>Type</th>\n",
              "    </tr>\n",
              "  </thead>\n",
              "  <tbody>\n",
              "    <tr>\n",
              "      <th>0</th>\n",
              "      <td>5.1</td>\n",
              "      <td>3.5</td>\n",
              "      <td>1.4</td>\n",
              "      <td>0.2</td>\n",
              "      <td>0</td>\n",
              "    </tr>\n",
              "    <tr>\n",
              "      <th>1</th>\n",
              "      <td>4.9</td>\n",
              "      <td>3.0</td>\n",
              "      <td>1.4</td>\n",
              "      <td>0.2</td>\n",
              "      <td>0</td>\n",
              "    </tr>\n",
              "    <tr>\n",
              "      <th>2</th>\n",
              "      <td>4.7</td>\n",
              "      <td>3.2</td>\n",
              "      <td>1.3</td>\n",
              "      <td>0.2</td>\n",
              "      <td>0</td>\n",
              "    </tr>\n",
              "    <tr>\n",
              "      <th>3</th>\n",
              "      <td>4.6</td>\n",
              "      <td>3.1</td>\n",
              "      <td>1.5</td>\n",
              "      <td>0.2</td>\n",
              "      <td>0</td>\n",
              "    </tr>\n",
              "    <tr>\n",
              "      <th>4</th>\n",
              "      <td>5.0</td>\n",
              "      <td>3.6</td>\n",
              "      <td>1.4</td>\n",
              "      <td>0.2</td>\n",
              "      <td>0</td>\n",
              "    </tr>\n",
              "  </tbody>\n",
              "</table>\n",
              "</div>"
            ],
            "text/plain": [
              "   sepal length (cm)  sepal width (cm)  ...  petal width (cm)  Type\n",
              "0                5.1               3.5  ...               0.2     0\n",
              "1                4.9               3.0  ...               0.2     0\n",
              "2                4.7               3.2  ...               0.2     0\n",
              "3                4.6               3.1  ...               0.2     0\n",
              "4                5.0               3.6  ...               0.2     0\n",
              "\n",
              "[5 rows x 5 columns]"
            ]
          },
          "metadata": {
            "tags": []
          },
          "execution_count": 3
        }
      ]
    },
    {
      "cell_type": "code",
      "metadata": {
        "id": "YYotNIqgS1PM",
        "colab_type": "code",
        "colab": {
          "base_uri": "https://localhost:8080/",
          "height": 107
        },
        "outputId": "f6de537e-e025-4ca2-c148-a633a37a6391"
      },
      "source": [
        "# Preparing Data\n",
        "# Here we have the target variable ‘Type’. \n",
        "# We need to remove the target variable, used to work in an unsupervised learning \n",
        "# The iloc function is used to get the features we require. \n",
        "# We also use .values function to get an array of the dataset. \n",
        "# Note : We transformed the dataset to an array so that we can plot the graphs of the clusters\n",
        "\n",
        "iris_X = iris_data.iloc[:, [0, 1, 2,3]].values\n",
        "print(iris_X[:5,:]) # Printing First 5 Rows"
      ],
      "execution_count": 4,
      "outputs": [
        {
          "output_type": "stream",
          "text": [
            "[[5.1 3.5 1.4 0.2]\n",
            " [4.9 3.  1.4 0.2]\n",
            " [4.7 3.2 1.3 0.2]\n",
            " [4.6 3.1 1.5 0.2]\n",
            " [5.  3.6 1.4 0.2]]\n"
          ],
          "name": "stdout"
        }
      ]
    },
    {
      "cell_type": "code",
      "metadata": {
        "id": "nQQGS8_dTvbU",
        "colab_type": "code",
        "colab": {
          "base_uri": "https://localhost:8080/",
          "height": 125
        },
        "outputId": "ab6e3ea4-3f9b-4f4c-8394-d438f106eff7"
      },
      "source": [
        "# Now we will separate the target variable from the original dataset \n",
        "# And again convert it to an array by using numpy\n",
        "iris_Y = iris_data['Type']\n",
        "iris_Y = np.array(iris_Y)\n",
        "print(iris_Y)\n",
        "# Frequency count of the Output clusters\n",
        "unique, counts = np.unique(iris_Y, return_counts=True)\n",
        "freq_1 = dict(zip(unique, counts))\n",
        "freq_1"
      ],
      "execution_count": 5,
      "outputs": [
        {
          "output_type": "stream",
          "text": [
            "[0 0 0 0 0 0 0 0 0 0 0 0 0 0 0 0 0 0 0 0 0 0 0 0 0 0 0 0 0 0 0 0 0 0 0 0 0\n",
            " 0 0 0 0 0 0 0 0 0 0 0 0 0 1 1 1 1 1 1 1 1 1 1 1 1 1 1 1 1 1 1 1 1 1 1 1 1\n",
            " 1 1 1 1 1 1 1 1 1 1 1 1 1 1 1 1 1 1 1 1 1 1 1 1 1 1 2 2 2 2 2 2 2 2 2 2 2\n",
            " 2 2 2 2 2 2 2 2 2 2 2 2 2 2 2 2 2 2 2 2 2 2 2 2 2 2 2 2 2 2 2 2 2 2 2 2 2\n",
            " 2 2]\n"
          ],
          "name": "stdout"
        },
        {
          "output_type": "execute_result",
          "data": {
            "text/plain": [
              "{0: 50, 1: 50, 2: 50}"
            ]
          },
          "metadata": {
            "tags": []
          },
          "execution_count": 5
        }
      ]
    },
    {
      "cell_type": "code",
      "metadata": {
        "id": "7zdlBmMrilBn",
        "colab_type": "code",
        "colab": {
          "base_uri": "https://localhost:8080/",
          "height": 395
        },
        "outputId": "ea28575e-0750-4361-fcf9-7cf806021aa8"
      },
      "source": [
        "# Filtering Setosa\n",
        "\n",
        "Setosa = iris_data['Type'] == 0\n",
        "print(\"Filtering Setosa, True means its Setosa and False means Non Setosa\")\n",
        "print(Setosa.head())\n",
        "print(\"Top 6 Rows of Setosa\")\n",
        "Setosa_v2 = iris_data[Setosa]\n",
        "print(Setosa_v2[Setosa_v2.columns[0:2]].head())\n",
        "print(\"Last 6 Rows of Setosa\")\n",
        "print(Setosa_v2[Setosa_v2.columns[0:2]].tail())"
      ],
      "execution_count": 6,
      "outputs": [
        {
          "output_type": "stream",
          "text": [
            "Filtering Setosa, True means its Setosa and False means Non Setosa\n",
            "0    True\n",
            "1    True\n",
            "2    True\n",
            "3    True\n",
            "4    True\n",
            "Name: Type, dtype: bool\n",
            "Top 6 Rows of Setosa\n",
            "   sepal length (cm)  sepal width (cm)\n",
            "0                5.1               3.5\n",
            "1                4.9               3.0\n",
            "2                4.7               3.2\n",
            "3                4.6               3.1\n",
            "4                5.0               3.6\n",
            "Last 6 Rows of Setosa\n",
            "    sepal length (cm)  sepal width (cm)\n",
            "45                4.8               3.0\n",
            "46                5.1               3.8\n",
            "47                4.6               3.2\n",
            "48                5.3               3.7\n",
            "49                5.0               3.3\n"
          ],
          "name": "stdout"
        }
      ]
    },
    {
      "cell_type": "code",
      "metadata": {
        "id": "_wOmXWLJWzq5",
        "colab_type": "code",
        "colab": {
          "base_uri": "https://localhost:8080/",
          "height": 485
        },
        "outputId": "1f83064d-5847-4fa8-b0be-8ef309cedb27"
      },
      "source": [
        "# Filtering Setosa for 2D Plot \n",
        "\n",
        "print(\"Setosa for 2D Plot\")\n",
        "print(\"X Axis points\")\n",
        "print(iris_X[iris_Y == 0,0])\n",
        "print(\"Y Axis Points\")\n",
        "print(iris_X[iris_Y == 0,1])\n",
        "print('\\n')\n",
        "# For Setosa in Target Column i.e, iris_Y = 0 \n",
        "# In other word it should range from (0,0) to (0,1)\n",
        "plt.scatter(iris_X[iris_Y == 0, 0], iris_X[iris_Y == 0, 1], \n",
        "            s = 80, c = 'orange', label = 'Iris-setosa')\n",
        "plt.xlim([4.5,8])\n",
        "plt.ylim([2,4.5])"
      ],
      "execution_count": 7,
      "outputs": [
        {
          "output_type": "stream",
          "text": [
            "Setosa for 2D Plot\n",
            "X Axis points\n",
            "[5.1 4.9 4.7 4.6 5.  5.4 4.6 5.  4.4 4.9 5.4 4.8 4.8 4.3 5.8 5.7 5.4 5.1\n",
            " 5.7 5.1 5.4 5.1 4.6 5.1 4.8 5.  5.  5.2 5.2 4.7 4.8 5.4 5.2 5.5 4.9 5.\n",
            " 5.5 4.9 4.4 5.1 5.  4.5 4.4 5.  5.1 4.8 5.1 4.6 5.3 5. ]\n",
            "Y Axis Points\n",
            "[3.5 3.  3.2 3.1 3.6 3.9 3.4 3.4 2.9 3.1 3.7 3.4 3.  3.  4.  4.4 3.9 3.5\n",
            " 3.8 3.8 3.4 3.7 3.6 3.3 3.4 3.  3.4 3.5 3.4 3.2 3.1 3.4 4.1 4.2 3.1 3.2\n",
            " 3.5 3.6 3.  3.4 3.5 2.3 3.2 3.5 3.8 3.  3.8 3.2 3.7 3.3]\n",
            "\n",
            "\n"
          ],
          "name": "stdout"
        },
        {
          "output_type": "execute_result",
          "data": {
            "text/plain": [
              "(2.0, 4.5)"
            ]
          },
          "metadata": {
            "tags": []
          },
          "execution_count": 7
        },
        {
          "output_type": "display_data",
          "data": {
            "image/png": "[encoded data removed]",
            "text/plain": [
              "<Figure size 432x288 with 1 Axes>"
            ]
          },
          "metadata": {
            "tags": [],
            "needs_background": "light"
          }
        }
      ]
    },
    {
      "cell_type": "code",
      "metadata": {
        "id": "vN6l86eLnvni",
        "colab_type": "code",
        "colab": {
          "base_uri": "https://localhost:8080/",
          "height": 395
        },
        "outputId": "a25352a9-84fa-47ab-eb60-312147f4d4f6"
      },
      "source": [
        "# Filtering Versicolour\n",
        "\n",
        "Versi = iris_data['Type'] == 1\n",
        "print(\"Filtering Versicolour, True means its Versicolour and False means Non Versicolour\")\n",
        "print(Versi.head())\n",
        "print(\"Top 6 Rows of Versicolour\")\n",
        "Versi_v2 = iris_data[Versi]\n",
        "print(Versi_v2[Versi_v2.columns[0:2]].head())\n",
        "print(\"Last 6 Rows of Versicolour\")\n",
        "print(Versi_v2[Versi_v2.columns[0:2]].tail())"
      ],
      "execution_count": 8,
      "outputs": [
        {
          "output_type": "stream",
          "text": [
            "Filtering Versicolour, True means its Versicolour and False means Non Versicolour\n",
            "0    False\n",
            "1    False\n",
            "2    False\n",
            "3    False\n",
            "4    False\n",
            "Name: Type, dtype: bool\n",
            "Top 6 Rows of Versicolour\n",
            "    sepal length (cm)  sepal width (cm)\n",
            "50                7.0               3.2\n",
            "51                6.4               3.2\n",
            "52                6.9               3.1\n",
            "53                5.5               2.3\n",
            "54                6.5               2.8\n",
            "Last 6 Rows of Versicolour\n",
            "    sepal length (cm)  sepal width (cm)\n",
            "95                5.7               3.0\n",
            "96                5.7               2.9\n",
            "97                6.2               2.9\n",
            "98                5.1               2.5\n",
            "99                5.7               2.8\n"
          ],
          "name": "stdout"
        }
      ]
    },
    {
      "cell_type": "code",
      "metadata": {
        "id": "M7mb70sXnTMg",
        "colab_type": "code",
        "colab": {
          "base_uri": "https://localhost:8080/",
          "height": 485
        },
        "outputId": "c95f1160-a776-4615-ed5f-8d31c806eb8d"
      },
      "source": [
        "# Filtering Versicolour for 2D Plot \n",
        "\n",
        "print(\"Versicolour for 2D Plot\")\n",
        "print(\"X Axis points\")\n",
        "print(iris_X[iris_Y == 1,0])\n",
        "print(\"Y Axis Points\")\n",
        "print(iris_X[iris_Y == 1,1])\n",
        "print('\\n')\n",
        "plt.scatter(iris_X[iris_Y == 1, 0], iris_X[iris_Y == 1, 1], \n",
        "            s = 80, c = 'yellow', label = 'Iris-versicolour')\n",
        "\n",
        "plt.xlim([4.5,8])\n",
        "plt.ylim([2,4.5])"
      ],
      "execution_count": 9,
      "outputs": [
        {
          "output_type": "stream",
          "text": [
            "Versicolour for 2D Plot\n",
            "X Axis points\n",
            "[7.  6.4 6.9 5.5 6.5 5.7 6.3 4.9 6.6 5.2 5.  5.9 6.  6.1 5.6 6.7 5.6 5.8\n",
            " 6.2 5.6 5.9 6.1 6.3 6.1 6.4 6.6 6.8 6.7 6.  5.7 5.5 5.5 5.8 6.  5.4 6.\n",
            " 6.7 6.3 5.6 5.5 5.5 6.1 5.8 5.  5.6 5.7 5.7 6.2 5.1 5.7]\n",
            "Y Axis Points\n",
            "[3.2 3.2 3.1 2.3 2.8 2.8 3.3 2.4 2.9 2.7 2.  3.  2.2 2.9 2.9 3.1 3.  2.7\n",
            " 2.2 2.5 3.2 2.8 2.5 2.8 2.9 3.  2.8 3.  2.9 2.6 2.4 2.4 2.7 2.7 3.  3.4\n",
            " 3.1 2.3 3.  2.5 2.6 3.  2.6 2.3 2.7 3.  2.9 2.9 2.5 2.8]\n",
            "\n",
            "\n"
          ],
          "name": "stdout"
        },
        {
          "output_type": "execute_result",
          "data": {
            "text/plain": [
              "(2.0, 4.5)"
            ]
          },
          "metadata": {
            "tags": []
          },
          "execution_count": 9
        },
        {
          "output_type": "display_data",
          "data": {
            "image/png": "[encoded data removed]",
            "text/plain": [
              "<Figure size 432x288 with 1 Axes>"
            ]
          },
          "metadata": {
            "tags": [],
            "needs_background": "light"
          }
        }
      ]
    },
    {
      "cell_type": "code",
      "metadata": {
        "id": "qD2TL0cwocaN",
        "colab_type": "code",
        "colab": {
          "base_uri": "https://localhost:8080/",
          "height": 395
        },
        "outputId": "e9d32b39-463f-44ea-c897-27872cbaa495"
      },
      "source": [
        "# Filtering Virginica\n",
        "\n",
        "Virginica = iris_data['Type'] == 2\n",
        "print(\"Filtering Virginica, True means its Virginica and False means Non Virginica\")\n",
        "print(Virginica.head())\n",
        "print(\"Top 6 Rows of Virginica\")\n",
        "Virginica_v2 = iris_data[Virginica]\n",
        "print(Virginica_v2[Virginica_v2.columns[0:2]].head())\n",
        "print(\"Last 6 Rows of Virginica\")\n",
        "print(Virginica_v2[Virginica_v2.columns[0:2]].tail())"
      ],
      "execution_count": 10,
      "outputs": [
        {
          "output_type": "stream",
          "text": [
            "Filtering Virginica, True means its Virginica and False means Non Virginica\n",
            "0    False\n",
            "1    False\n",
            "2    False\n",
            "3    False\n",
            "4    False\n",
            "Name: Type, dtype: bool\n",
            "Top 6 Rows of Virginica\n",
            "     sepal length (cm)  sepal width (cm)\n",
            "100                6.3               3.3\n",
            "101                5.8               2.7\n",
            "102                7.1               3.0\n",
            "103                6.3               2.9\n",
            "104                6.5               3.0\n",
            "Last 6 Rows of Virginica\n",
            "     sepal length (cm)  sepal width (cm)\n",
            "145                6.7               3.0\n",
            "146                6.3               2.5\n",
            "147                6.5               3.0\n",
            "148                6.2               3.4\n",
            "149                5.9               3.0\n"
          ],
          "name": "stdout"
        }
      ]
    },
    {
      "cell_type": "code",
      "metadata": {
        "id": "wsnoGdx0objs",
        "colab_type": "code",
        "colab": {
          "base_uri": "https://localhost:8080/",
          "height": 485
        },
        "outputId": "71e141fb-020c-49c2-9e10-428704328817"
      },
      "source": [
        "# Filtering Virginica for 2D Plot\n",
        "\n",
        "print(\"Virginica for 2D Plot\")\n",
        "print(\"X Axis points\")\n",
        "print(iris_X[iris_Y == 2,0])\n",
        "print(\"Y Axis Points\")\n",
        "print(iris_X[iris_Y == 2,1])\n",
        "print('\\n')\n",
        "plt.scatter(iris_X[iris_Y == 2, 0], iris_X[iris_Y == 2, 1], \n",
        "            s = 80, c = 'green', label = 'Iris-virginica')\n",
        "plt.xlim([4.5,8])\n",
        "plt.ylim([2,4.5])"
      ],
      "execution_count": 11,
      "outputs": [
        {
          "output_type": "stream",
          "text": [
            "Virginica for 2D Plot\n",
            "X Axis points\n",
            "[6.3 5.8 7.1 6.3 6.5 7.6 4.9 7.3 6.7 7.2 6.5 6.4 6.8 5.7 5.8 6.4 6.5 7.7\n",
            " 7.7 6.  6.9 5.6 7.7 6.3 6.7 7.2 6.2 6.1 6.4 7.2 7.4 7.9 6.4 6.3 6.1 7.7\n",
            " 6.3 6.4 6.  6.9 6.7 6.9 5.8 6.8 6.7 6.7 6.3 6.5 6.2 5.9]\n",
            "Y Axis Points\n",
            "[3.3 2.7 3.  2.9 3.  3.  2.5 2.9 2.5 3.6 3.2 2.7 3.  2.5 2.8 3.2 3.  3.8\n",
            " 2.6 2.2 3.2 2.8 2.8 2.7 3.3 3.2 2.8 3.  2.8 3.  2.8 3.8 2.8 2.8 2.6 3.\n",
            " 3.4 3.1 3.  3.1 3.1 3.1 2.7 3.2 3.3 3.  2.5 3.  3.4 3. ]\n",
            "\n",
            "\n"
          ],
          "name": "stdout"
        },
        {
          "output_type": "execute_result",
          "data": {
            "text/plain": [
              "(2.0, 4.5)"
            ]
          },
          "metadata": {
            "tags": []
          },
          "execution_count": 11
        },
        {
          "output_type": "display_data",
          "data": {
            "image/png": "[encoded data removed]",
            "text/plain": [
              "<Figure size 432x288 with 1 Axes>"
            ]
          },
          "metadata": {
            "tags": [],
            "needs_background": "light"
          }
        }
      ]
    },
    {
      "cell_type": "code",
      "metadata": {
        "id": "HCShLm9HUWHn",
        "colab_type": "code",
        "colab": {
          "base_uri": "https://localhost:8080/",
          "height": 286
        },
        "outputId": "e4cf85f2-653e-4077-86fd-1ebc0076f4df"
      },
      "source": [
        "# Visualise Classes all at once\n",
        "\n",
        "# In this Iris dataset, we have three classes (0,1,2)\n",
        "# We visualise these classes in a 2-D graph \n",
        "# This will help us in comparing the original classes with the clusters created \n",
        "# Plot the three type of flowers on a graph\n",
        "\n",
        "plt.scatter(iris_X[iris_Y == 0, 0], iris_X[iris_Y == 0, 1], \n",
        "            s = 80, c = 'orange', label = 'Iris-setosa')\n",
        "plt.scatter(iris_X[iris_Y == 1, 0], iris_X[iris_Y == 1, 1], \n",
        "            s = 80, c = 'yellow', label = 'Iris-versicolour')\n",
        "plt.scatter(iris_X[iris_Y == 2, 0], iris_X[iris_Y == 2, 1], \n",
        "            s = 80, c = 'green', label = 'Iris-virginica')\n",
        "plt.legend()\n",
        "\n",
        "# Inference : \n",
        "# We find that we have three classes with two types of Iris flowers overlapping each other"
      ],
      "execution_count": 12,
      "outputs": [
        {
          "output_type": "execute_result",
          "data": {
            "text/plain": [
              "<matplotlib.legend.Legend at 0x7fe6dcd85550>"
            ]
          },
          "metadata": {
            "tags": []
          },
          "execution_count": 12
        },
        {
          "output_type": "display_data",
          "data": {
            "image/png": "[encoded data removed]",
            "text/plain": [
              "<Figure size 432x288 with 1 Axes>"
            ]
          },
          "metadata": {
            "tags": [],
            "needs_background": "light"
          }
        }
      ]
    },
    {
      "cell_type": "code",
      "metadata": {
        "id": "ZsCsys0BJEzq",
        "colab_type": "code",
        "colab": {
          "base_uri": "https://localhost:8080/",
          "height": 89
        },
        "outputId": "bfa1baae-d7aa-42f0-88b5-e29a614e070a"
      },
      "source": [
        "# Gaussian Mixture Model\n",
        "from sklearn.mixture import GaussianMixture\n",
        "\n",
        "gmm = GaussianMixture(n_components=3)\n",
        "model_gmm = gmm.fit(iris_X)\n",
        "model_gmm"
      ],
      "execution_count": 13,
      "outputs": [
        {
          "output_type": "execute_result",
          "data": {
            "text/plain": [
              "GaussianMixture(covariance_type='full', init_params='kmeans', max_iter=100,\n",
              "                means_init=None, n_components=3, n_init=1, precisions_init=None,\n",
              "                random_state=None, reg_covar=1e-06, tol=0.001, verbose=0,\n",
              "                verbose_interval=10, warm_start=False, weights_init=None)"
            ]
          },
          "metadata": {
            "tags": []
          },
          "execution_count": 13
        }
      ]
    },
    {
      "cell_type": "code",
      "metadata": {
        "id": "kunOfQGBJuui",
        "colab_type": "code",
        "colab": {
          "base_uri": "https://localhost:8080/",
          "height": 161
        },
        "outputId": "15fe89ac-6325-4dc4-97e4-559a706499fb"
      },
      "source": [
        "# GMM Output\n",
        "labels = model_gmm.predict(iris_X)\n",
        "print(\"Gaussian Output Clusters\")\n",
        "print(labels)\n",
        "unique, counts = np.unique(labels, return_counts=True)\n",
        "pred_2 = dict(zip(unique, counts))\n",
        "print(\"Frequency of Gaussian Output Cluster\")\n",
        "print(pred_2)"
      ],
      "execution_count": 14,
      "outputs": [
        {
          "output_type": "stream",
          "text": [
            "Gaussian Output Clusters\n",
            "[0 0 0 0 0 0 0 0 0 0 0 0 0 0 0 0 0 0 0 0 0 0 0 0 0 0 0 0 0 0 0 0 0 0 0 0 0\n",
            " 0 0 0 0 0 0 0 0 0 0 0 0 0 2 2 2 2 2 2 2 2 2 2 2 2 2 2 2 2 2 2 1 2 1 2 1 2\n",
            " 2 2 2 1 2 2 2 2 2 1 2 2 2 2 2 2 2 2 2 2 2 2 2 2 2 2 1 1 1 1 1 1 1 1 1 1 1\n",
            " 1 1 1 1 1 1 1 1 1 1 1 1 1 1 1 1 1 1 1 1 1 1 1 1 1 1 1 1 1 1 1 1 1 1 1 1 1\n",
            " 1 1]\n",
            "Frequency of Gaussian Output Cluster\n",
            "{0: 50, 1: 55, 2: 45}\n"
          ],
          "name": "stdout"
        }
      ]
    },
    {
      "cell_type": "code",
      "metadata": {
        "id": "bXCcBJaWLdDj",
        "colab_type": "code",
        "colab": {
          "base_uri": "https://localhost:8080/",
          "height": 430
        },
        "outputId": "4034deef-d40f-4576-f84e-adb4ee745a67"
      },
      "source": [
        "# Visualizing Output\n",
        "\n",
        "print('Original Cluster Frequency')\n",
        "print(freq_1)\n",
        "# Frequency count of the Output clusters\n",
        "unique, counts = np.unique(labels, return_counts=True)\n",
        "print('GaussianMixture Output Cluster Frequency')\n",
        "print(dict(zip(unique, counts)))\n",
        "# Silhouette Score\n",
        "print('Silhouette Score for 3 Clusters')\n",
        "print(silhouette_score(iris_X,labels))\n",
        "print('\\n')\n",
        "\n",
        "# In the above output we got value labels: ‘0’, ‘1’  and ‘2’\n",
        "# For a better understanding, we can visualize these clusters.\n",
        "\n",
        "plt.scatter(iris_X[labels == 0, 0], iris_X[labels == 0, 1], \n",
        "            s = 80, c = 'orange', label = 'Iris-setosa')\n",
        "plt.scatter(iris_X[labels == 1, 0], iris_X[labels == 1, 1], \n",
        "            s = 80, c = 'yellow', label = 'Iris-versicolour')\n",
        "plt.scatter(iris_X[labels == 2, 0], iris_X[labels == 2, 1], \n",
        "            s = 80, c = 'green', label = 'Iris-virginica')\n",
        "plt.legend()\n",
        "\n",
        "# Inference : \n",
        "# This worked well as only 5 instances/rows are misplaced\n",
        "# Silhouette Score is 0.50 which is not that bad"
      ],
      "execution_count": 15,
      "outputs": [
        {
          "output_type": "stream",
          "text": [
            "Original Cluster Frequency\n",
            "{0: 50, 1: 50, 2: 50}\n",
            "GaussianMixture Output Cluster Frequency\n",
            "{0: 50, 1: 55, 2: 45}\n",
            "Silhouette Score for 3 Clusters\n",
            "0.5011761635067201\n",
            "\n",
            "\n"
          ],
          "name": "stdout"
        },
        {
          "output_type": "execute_result",
          "data": {
            "text/plain": [
              "<matplotlib.legend.Legend at 0x7fe6dcddaf28>"
            ]
          },
          "metadata": {
            "tags": []
          },
          "execution_count": 15
        },
        {
          "output_type": "display_data",
          "data": {
            "image/png": "[encoded data removed]",
            "text/plain": [
              "<Figure size 432x288 with 1 Axes>"
            ]
          },
          "metadata": {
            "tags": [],
            "needs_background": "light"
          }
        }
      ]
    }
  ]
}