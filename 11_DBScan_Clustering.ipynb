{
  "nbformat": 4,
  "nbformat_minor": 0,
  "metadata": {
    "colab": {
      "name": "11 DBScan Clustering.ipynb",
      "provenance": [],
      "collapsed_sections": [],
      "authorship_tag": "ABX9TyPQm6dk4FgkBvYTTm3j31fu",
      "include_colab_link": true
    },
    "kernelspec": {
      "name": "python3",
      "display_name": "Python 3"
    }
  },
  "cells": [
    {
      "cell_type": "markdown",
      "metadata": {
        "id": "view-in-github",
        "colab_type": "text"
      },
      "source": [
        "<a href=\"https://colab.research.google.com/github/sandipanpaul21/ML-Clustering-in-Python/blob/master/11_DBScan_Clustering.ipynb\" target=\"_parent\"><img src=\"https://colab.research.google.com/assets/colab-badge.svg\" alt=\"Open In Colab\"/></a>"
      ]
    },
    {
      "cell_type": "code",
      "metadata": {
        "id": "OEVZB2KYH3X3",
        "colab_type": "code",
        "colab": {}
      },
      "source": [
        "# DBSCAN\n",
        "\n",
        "# Density-based spatial clustering of applications with noise, or DBSCAN \n",
        "# It is a popular clustering algorithm used as a replacement for k-means clustering\n",
        "# To run it doesn’t require an input for the number of clusters \n",
        "# But DBSCAN does need to tune two other parameters\n",
        "# 'eps' parameter is the maximum distance between two data points \n",
        "# to be considered in the same neighborhood. \n",
        "# 'min_samples' parameter is the minimum amount of data points \n",
        "# in a neighborhood to be considered a cluster\n",
        "\n",
        "# Silhouette Score\n",
        "# Clusters are well apart from each other as the silhouette score is closer to 1\n",
        "# Silhouette Coefficient score is a metric used to calculate the goodness of a clustering technique \n",
        "# Its value ranges from -1 to 1.\n",
        "# 1: Means clusters are well apart from each other and clearly distinguished.\n",
        "# 0: Means clusters are indifferent, or we can say that the distance between clusters is not significant.\n",
        "# -1: Means clusters are assigned in the wrong way."
      ],
      "execution_count": 1,
      "outputs": []
    },
    {
      "cell_type": "code",
      "metadata": {
        "id": "qcrOZvxZDrFS",
        "colab_type": "code",
        "colab": {}
      },
      "source": [
        "# Importing Libraries\n",
        "\n",
        "from sklearn import datasets\n",
        "import matplotlib.pyplot as plt\n",
        "from sklearn.cluster import DBSCAN\n",
        "from sklearn.datasets import load_iris\n",
        "import numpy as np\n",
        "import pandas as pd\n",
        "from sklearn.metrics import silhouette_score"
      ],
      "execution_count": 2,
      "outputs": []
    },
    {
      "cell_type": "code",
      "metadata": {
        "id": "IgadKpnrSlNM",
        "colab_type": "code",
        "colab": {
          "base_uri": "https://localhost:8080/",
          "height": 204
        },
        "outputId": "65eec009-c1d9-43ec-fecf-9a058217423f"
      },
      "source": [
        "# Loading the Dataset\n",
        "\n",
        "iris = datasets.load_iris()\n",
        "iris_data = pd.DataFrame(iris.data)\n",
        "iris_data.columns = iris.feature_names\n",
        "iris_data['Type']=iris.target\n",
        "iris_data.head()"
      ],
      "execution_count": 3,
      "outputs": [
        {
          "output_type": "execute_result",
          "data": {
            "text/html": [
              "<div>\n",
              "<style scoped>\n",
              "    .dataframe tbody tr th:only-of-type {\n",
              "        vertical-align: middle;\n",
              "    }\n",
              "\n",
              "    .dataframe tbody tr th {\n",
              "        vertical-align: top;\n",
              "    }\n",
              "\n",
              "    .dataframe thead th {\n",
              "        text-align: right;\n",
              "    }\n",
              "</style>\n",
              "<table border=\"1\" class=\"dataframe\">\n",
              "  <thead>\n",
              "    <tr style=\"text-align: right;\">\n",
              "      <th></th>\n",
              "      <th>sepal length (cm)</th>\n",
              "      <th>sepal width (cm)</th>\n",
              "      <th>petal length (cm)</th>\n",
              "      <th>petal width (cm)</th>\n",
              "      <th>Type</th>\n",
              "    </tr>\n",
              "  </thead>\n",
              "  <tbody>\n",
              "    <tr>\n",
              "      <th>0</th>\n",
              "      <td>5.1</td>\n",
              "      <td>3.5</td>\n",
              "      <td>1.4</td>\n",
              "      <td>0.2</td>\n",
              "      <td>0</td>\n",
              "    </tr>\n",
              "    <tr>\n",
              "      <th>1</th>\n",
              "      <td>4.9</td>\n",
              "      <td>3.0</td>\n",
              "      <td>1.4</td>\n",
              "      <td>0.2</td>\n",
              "      <td>0</td>\n",
              "    </tr>\n",
              "    <tr>\n",
              "      <th>2</th>\n",
              "      <td>4.7</td>\n",
              "      <td>3.2</td>\n",
              "      <td>1.3</td>\n",
              "      <td>0.2</td>\n",
              "      <td>0</td>\n",
              "    </tr>\n",
              "    <tr>\n",
              "      <th>3</th>\n",
              "      <td>4.6</td>\n",
              "      <td>3.1</td>\n",
              "      <td>1.5</td>\n",
              "      <td>0.2</td>\n",
              "      <td>0</td>\n",
              "    </tr>\n",
              "    <tr>\n",
              "      <th>4</th>\n",
              "      <td>5.0</td>\n",
              "      <td>3.6</td>\n",
              "      <td>1.4</td>\n",
              "      <td>0.2</td>\n",
              "      <td>0</td>\n",
              "    </tr>\n",
              "  </tbody>\n",
              "</table>\n",
              "</div>"
            ],
            "text/plain": [
              "   sepal length (cm)  sepal width (cm)  ...  petal width (cm)  Type\n",
              "0                5.1               3.5  ...               0.2     0\n",
              "1                4.9               3.0  ...               0.2     0\n",
              "2                4.7               3.2  ...               0.2     0\n",
              "3                4.6               3.1  ...               0.2     0\n",
              "4                5.0               3.6  ...               0.2     0\n",
              "\n",
              "[5 rows x 5 columns]"
            ]
          },
          "metadata": {
            "tags": []
          },
          "execution_count": 3
        }
      ]
    },
    {
      "cell_type": "code",
      "metadata": {
        "id": "YYotNIqgS1PM",
        "colab_type": "code",
        "colab": {
          "base_uri": "https://localhost:8080/",
          "height": 107
        },
        "outputId": "67438f49-20a5-4330-ee30-495cd46ae5e8"
      },
      "source": [
        "# Preparing Data\n",
        "\n",
        "# Here we have the target variable ‘Type’. \n",
        "# We need to remove the target variable, used to work in an unsupervised learning \n",
        "# The iloc function is used to get the features we require. \n",
        "# We also use .values function to get an array of the dataset. \n",
        "# Note that we transformed the dataset to an array so that we can plot the graphs of the clusters\n",
        "\n",
        "iris_X = iris_data.iloc[:, [0, 1, 2,3]].values\n",
        "print(iris_X[:5,:]) # Printing First 5 Rows"
      ],
      "execution_count": 4,
      "outputs": [
        {
          "output_type": "stream",
          "text": [
            "[[5.1 3.5 1.4 0.2]\n",
            " [4.9 3.  1.4 0.2]\n",
            " [4.7 3.2 1.3 0.2]\n",
            " [4.6 3.1 1.5 0.2]\n",
            " [5.  3.6 1.4 0.2]]\n"
          ],
          "name": "stdout"
        }
      ]
    },
    {
      "cell_type": "code",
      "metadata": {
        "id": "nQQGS8_dTvbU",
        "colab_type": "code",
        "colab": {
          "base_uri": "https://localhost:8080/",
          "height": 125
        },
        "outputId": "c087e848-8b98-4282-c4e2-28aab4a0a979"
      },
      "source": [
        "# Now we will separate the target variable from the original dataset \n",
        "# And again convert it to an array by using numpy\n",
        "iris_Y = iris_data['Type']\n",
        "iris_Y = np.array(iris_Y)\n",
        "print(iris_Y)\n",
        "# Frequency count of the Output clusters\n",
        "unique, counts = np.unique(iris_Y, return_counts=True)\n",
        "freq_2 = dict(zip(unique, counts))\n",
        "print(freq_2)"
      ],
      "execution_count": 5,
      "outputs": [
        {
          "output_type": "stream",
          "text": [
            "[0 0 0 0 0 0 0 0 0 0 0 0 0 0 0 0 0 0 0 0 0 0 0 0 0 0 0 0 0 0 0 0 0 0 0 0 0\n",
            " 0 0 0 0 0 0 0 0 0 0 0 0 0 1 1 1 1 1 1 1 1 1 1 1 1 1 1 1 1 1 1 1 1 1 1 1 1\n",
            " 1 1 1 1 1 1 1 1 1 1 1 1 1 1 1 1 1 1 1 1 1 1 1 1 1 1 2 2 2 2 2 2 2 2 2 2 2\n",
            " 2 2 2 2 2 2 2 2 2 2 2 2 2 2 2 2 2 2 2 2 2 2 2 2 2 2 2 2 2 2 2 2 2 2 2 2 2\n",
            " 2 2]\n",
            "{0: 50, 1: 50, 2: 50}\n"
          ],
          "name": "stdout"
        }
      ]
    },
    {
      "cell_type": "code",
      "metadata": {
        "id": "7zdlBmMrilBn",
        "colab_type": "code",
        "colab": {
          "base_uri": "https://localhost:8080/",
          "height": 395
        },
        "outputId": "633dea40-adac-42d1-b2c4-edd52e42ebb4"
      },
      "source": [
        "# Filtering Setosa\n",
        "\n",
        "Setosa = iris_data['Type'] == 0\n",
        "print(\"Filtering Setosa, True means its Setosa and False means Non Setosa\")\n",
        "print(Setosa.head())\n",
        "print(\"Top 6 Rows of Setosa\")\n",
        "Setosa_v2 = iris_data[Setosa]\n",
        "print(Setosa_v2[Setosa_v2.columns[0:2]].head())\n",
        "print(\"Last 6 Rows of Setosa\")\n",
        "print(Setosa_v2[Setosa_v2.columns[0:2]].tail())"
      ],
      "execution_count": 6,
      "outputs": [
        {
          "output_type": "stream",
          "text": [
            "Filtering Setosa, True means its Setosa and False means Non Setosa\n",
            "0    True\n",
            "1    True\n",
            "2    True\n",
            "3    True\n",
            "4    True\n",
            "Name: Type, dtype: bool\n",
            "Top 6 Rows of Setosa\n",
            "   sepal length (cm)  sepal width (cm)\n",
            "0                5.1               3.5\n",
            "1                4.9               3.0\n",
            "2                4.7               3.2\n",
            "3                4.6               3.1\n",
            "4                5.0               3.6\n",
            "Last 6 Rows of Setosa\n",
            "    sepal length (cm)  sepal width (cm)\n",
            "45                4.8               3.0\n",
            "46                5.1               3.8\n",
            "47                4.6               3.2\n",
            "48                5.3               3.7\n",
            "49                5.0               3.3\n"
          ],
          "name": "stdout"
        }
      ]
    },
    {
      "cell_type": "code",
      "metadata": {
        "id": "_wOmXWLJWzq5",
        "colab_type": "code",
        "colab": {
          "base_uri": "https://localhost:8080/",
          "height": 485
        },
        "outputId": "b9f57207-33c2-4d18-aa1b-7c687961cc84"
      },
      "source": [
        "# Filtering Setosa for 2D Plot \n",
        "\n",
        "print(\"Setosa for 2D Plot\")\n",
        "print(\"X Axis points\")\n",
        "print(iris_X[iris_Y == 0,0])\n",
        "print(\"Y Axis Points\")\n",
        "print(iris_X[iris_Y == 0,1])\n",
        "print('\\n')\n",
        "# For Setosa in Target Column i.e, iris_Y = 0 \n",
        "# In other word it should range from (0,0) to (0,1)\n",
        "plt.scatter(iris_X[iris_Y == 0, 0], iris_X[iris_Y == 0, 1], \n",
        "            s = 80, c = 'orange', label = 'Iris-setosa')\n",
        "plt.xlim([4.5,8])\n",
        "plt.ylim([2,4.5])"
      ],
      "execution_count": 7,
      "outputs": [
        {
          "output_type": "stream",
          "text": [
            "Setosa for 2D Plot\n",
            "X Axis points\n",
            "[5.1 4.9 4.7 4.6 5.  5.4 4.6 5.  4.4 4.9 5.4 4.8 4.8 4.3 5.8 5.7 5.4 5.1\n",
            " 5.7 5.1 5.4 5.1 4.6 5.1 4.8 5.  5.  5.2 5.2 4.7 4.8 5.4 5.2 5.5 4.9 5.\n",
            " 5.5 4.9 4.4 5.1 5.  4.5 4.4 5.  5.1 4.8 5.1 4.6 5.3 5. ]\n",
            "Y Axis Points\n",
            "[3.5 3.  3.2 3.1 3.6 3.9 3.4 3.4 2.9 3.1 3.7 3.4 3.  3.  4.  4.4 3.9 3.5\n",
            " 3.8 3.8 3.4 3.7 3.6 3.3 3.4 3.  3.4 3.5 3.4 3.2 3.1 3.4 4.1 4.2 3.1 3.2\n",
            " 3.5 3.6 3.  3.4 3.5 2.3 3.2 3.5 3.8 3.  3.8 3.2 3.7 3.3]\n",
            "\n",
            "\n"
          ],
          "name": "stdout"
        },
        {
          "output_type": "execute_result",
          "data": {
            "text/plain": [
              "(2.0, 4.5)"
            ]
          },
          "metadata": {
            "tags": []
          },
          "execution_count": 7
        },
        {
          "output_type": "display_data",
          "data": {
            "image/png": "[encoded data removed]",
            "text/plain": [
              "<Figure size 432x288 with 1 Axes>"
            ]
          },
          "metadata": {
            "tags": [],
            "needs_background": "light"
          }
        }
      ]
    },
    {
      "cell_type": "code",
      "metadata": {
        "id": "vN6l86eLnvni",
        "colab_type": "code",
        "colab": {
          "base_uri": "https://localhost:8080/",
          "height": 395
        },
        "outputId": "bd9ae66e-82ca-4100-8e8d-cfabf1b90699"
      },
      "source": [
        "# Filtering Versicolour\n",
        "\n",
        "Versi = iris_data['Type'] == 1\n",
        "print(\"Filtering Versicolour, True means its Versicolour and False means Non Versicolour\")\n",
        "print(Versi.head())\n",
        "print(\"Top 6 Rows of Versicolour\")\n",
        "Versi_v2 = iris_data[Versi]\n",
        "print(Versi_v2[Versi_v2.columns[0:2]].head())\n",
        "print(\"Last 6 Rows of Versicolour\")\n",
        "print(Versi_v2[Versi_v2.columns[0:2]].tail())"
      ],
      "execution_count": 8,
      "outputs": [
        {
          "output_type": "stream",
          "text": [
            "Filtering Versicolour, True means its Versicolour and False means Non Versicolour\n",
            "0    False\n",
            "1    False\n",
            "2    False\n",
            "3    False\n",
            "4    False\n",
            "Name: Type, dtype: bool\n",
            "Top 6 Rows of Versicolour\n",
            "    sepal length (cm)  sepal width (cm)\n",
            "50                7.0               3.2\n",
            "51                6.4               3.2\n",
            "52                6.9               3.1\n",
            "53                5.5               2.3\n",
            "54                6.5               2.8\n",
            "Last 6 Rows of Versicolour\n",
            "    sepal length (cm)  sepal width (cm)\n",
            "95                5.7               3.0\n",
            "96                5.7               2.9\n",
            "97                6.2               2.9\n",
            "98                5.1               2.5\n",
            "99                5.7               2.8\n"
          ],
          "name": "stdout"
        }
      ]
    },
    {
      "cell_type": "code",
      "metadata": {
        "id": "M7mb70sXnTMg",
        "colab_type": "code",
        "colab": {
          "base_uri": "https://localhost:8080/",
          "height": 485
        },
        "outputId": "200d0a8b-94ee-4928-d463-814ee834587b"
      },
      "source": [
        "# Filtering Versicolour for 2D Plot \n",
        "\n",
        "print(\"Versicolour for 2D Plot\")\n",
        "print(\"X Axis points\")\n",
        "print(iris_X[iris_Y == 1,0])\n",
        "print(\"Y Axis Points\")\n",
        "print(iris_X[iris_Y == 1,1])\n",
        "print('\\n')\n",
        "plt.scatter(iris_X[iris_Y == 1, 0], iris_X[iris_Y == 1, 1], \n",
        "            s = 80, c = 'yellow', label = 'Iris-versicolour')\n",
        "\n",
        "plt.xlim([4.5,8])\n",
        "plt.ylim([2,4.5])"
      ],
      "execution_count": 9,
      "outputs": [
        {
          "output_type": "stream",
          "text": [
            "Versicolour for 2D Plot\n",
            "X Axis points\n",
            "[7.  6.4 6.9 5.5 6.5 5.7 6.3 4.9 6.6 5.2 5.  5.9 6.  6.1 5.6 6.7 5.6 5.8\n",
            " 6.2 5.6 5.9 6.1 6.3 6.1 6.4 6.6 6.8 6.7 6.  5.7 5.5 5.5 5.8 6.  5.4 6.\n",
            " 6.7 6.3 5.6 5.5 5.5 6.1 5.8 5.  5.6 5.7 5.7 6.2 5.1 5.7]\n",
            "Y Axis Points\n",
            "[3.2 3.2 3.1 2.3 2.8 2.8 3.3 2.4 2.9 2.7 2.  3.  2.2 2.9 2.9 3.1 3.  2.7\n",
            " 2.2 2.5 3.2 2.8 2.5 2.8 2.9 3.  2.8 3.  2.9 2.6 2.4 2.4 2.7 2.7 3.  3.4\n",
            " 3.1 2.3 3.  2.5 2.6 3.  2.6 2.3 2.7 3.  2.9 2.9 2.5 2.8]\n",
            "\n",
            "\n"
          ],
          "name": "stdout"
        },
        {
          "output_type": "execute_result",
          "data": {
            "text/plain": [
              "(2.0, 4.5)"
            ]
          },
          "metadata": {
            "tags": []
          },
          "execution_count": 9
        },
        {
          "output_type": "display_data",
          "data": {
            "image/png": "[encoded data removed]",
            "text/plain": [
              "<Figure size 432x288 with 1 Axes>"
            ]
          },
          "metadata": {
            "tags": [],
            "needs_background": "light"
          }
        }
      ]
    },
    {
      "cell_type": "code",
      "metadata": {
        "id": "qD2TL0cwocaN",
        "colab_type": "code",
        "colab": {
          "base_uri": "https://localhost:8080/",
          "height": 395
        },
        "outputId": "716c1971-57fa-4ba5-898c-a8f0b459703a"
      },
      "source": [
        "# Filtering Virginica\n",
        "\n",
        "Virginica = iris_data['Type'] == 2\n",
        "print(\"Filtering Virginica, True means its Virginica and False means Non Virginica\")\n",
        "print(Virginica.head())\n",
        "print(\"Top 6 Rows of Virginica\")\n",
        "Virginica_v2 = iris_data[Virginica]\n",
        "print(Virginica_v2[Virginica_v2.columns[0:2]].head())\n",
        "print(\"Last 6 Rows of Virginica\")\n",
        "print(Virginica_v2[Virginica_v2.columns[0:2]].tail())"
      ],
      "execution_count": 10,
      "outputs": [
        {
          "output_type": "stream",
          "text": [
            "Filtering Virginica, True means its Virginica and False means Non Virginica\n",
            "0    False\n",
            "1    False\n",
            "2    False\n",
            "3    False\n",
            "4    False\n",
            "Name: Type, dtype: bool\n",
            "Top 6 Rows of Virginica\n",
            "     sepal length (cm)  sepal width (cm)\n",
            "100                6.3               3.3\n",
            "101                5.8               2.7\n",
            "102                7.1               3.0\n",
            "103                6.3               2.9\n",
            "104                6.5               3.0\n",
            "Last 6 Rows of Virginica\n",
            "     sepal length (cm)  sepal width (cm)\n",
            "145                6.7               3.0\n",
            "146                6.3               2.5\n",
            "147                6.5               3.0\n",
            "148                6.2               3.4\n",
            "149                5.9               3.0\n"
          ],
          "name": "stdout"
        }
      ]
    },
    {
      "cell_type": "code",
      "metadata": {
        "id": "wsnoGdx0objs",
        "colab_type": "code",
        "colab": {
          "base_uri": "https://localhost:8080/",
          "height": 485
        },
        "outputId": "ce3cb786-cf94-4dff-c002-0a97e7e5b9b1"
      },
      "source": [
        "# Filtering Virginica for 2D Plot\n",
        "\n",
        "print(\"Virginica for 2D Plot\")\n",
        "print(\"X Axis points\")\n",
        "print(iris_X[iris_Y == 2,0])\n",
        "print(\"Y Axis Points\")\n",
        "print(iris_X[iris_Y == 2,1])\n",
        "print('\\n')\n",
        "plt.scatter(iris_X[iris_Y == 2, 0], iris_X[iris_Y == 2, 1], \n",
        "            s = 80, c = 'green', label = 'Iris-virginica')\n",
        "plt.xlim([4.5,8])\n",
        "plt.ylim([2,4.5])"
      ],
      "execution_count": 11,
      "outputs": [
        {
          "output_type": "stream",
          "text": [
            "Virginica for 2D Plot\n",
            "X Axis points\n",
            "[6.3 5.8 7.1 6.3 6.5 7.6 4.9 7.3 6.7 7.2 6.5 6.4 6.8 5.7 5.8 6.4 6.5 7.7\n",
            " 7.7 6.  6.9 5.6 7.7 6.3 6.7 7.2 6.2 6.1 6.4 7.2 7.4 7.9 6.4 6.3 6.1 7.7\n",
            " 6.3 6.4 6.  6.9 6.7 6.9 5.8 6.8 6.7 6.7 6.3 6.5 6.2 5.9]\n",
            "Y Axis Points\n",
            "[3.3 2.7 3.  2.9 3.  3.  2.5 2.9 2.5 3.6 3.2 2.7 3.  2.5 2.8 3.2 3.  3.8\n",
            " 2.6 2.2 3.2 2.8 2.8 2.7 3.3 3.2 2.8 3.  2.8 3.  2.8 3.8 2.8 2.8 2.6 3.\n",
            " 3.4 3.1 3.  3.1 3.1 3.1 2.7 3.2 3.3 3.  2.5 3.  3.4 3. ]\n",
            "\n",
            "\n"
          ],
          "name": "stdout"
        },
        {
          "output_type": "execute_result",
          "data": {
            "text/plain": [
              "(2.0, 4.5)"
            ]
          },
          "metadata": {
            "tags": []
          },
          "execution_count": 11
        },
        {
          "output_type": "display_data",
          "data": {
            "image/png": "[encoded data removed]",
            "text/plain": [
              "<Figure size 432x288 with 1 Axes>"
            ]
          },
          "metadata": {
            "tags": [],
            "needs_background": "light"
          }
        }
      ]
    },
    {
      "cell_type": "code",
      "metadata": {
        "id": "HCShLm9HUWHn",
        "colab_type": "code",
        "colab": {
          "base_uri": "https://localhost:8080/",
          "height": 286
        },
        "outputId": "b2027e7e-8bca-462b-a4af-296aa6dce348"
      },
      "source": [
        "# Visualise Classes all at once\n",
        "\n",
        "# In this Iris dataset, we have three classes (0,1,2)\n",
        "# We visualise these classes in a 2-D graph \n",
        "# This will help us in comparing the original classes with the clusters created \n",
        "# Plot the three type of flowers on a graph\n",
        "\n",
        "plt.scatter(iris_X[iris_Y == 0, 0], iris_X[iris_Y == 0, 1], \n",
        "            s = 80, c = 'orange', label = 'Iris-setosa')\n",
        "plt.scatter(iris_X[iris_Y == 1, 0], iris_X[iris_Y == 1, 1], \n",
        "            s = 80, c = 'yellow', label = 'Iris-versicolour')\n",
        "plt.scatter(iris_X[iris_Y == 2, 0], iris_X[iris_Y == 2, 1], \n",
        "            s = 80, c = 'green', label = 'Iris-virginica')\n",
        "plt.legend()\n",
        "\n",
        "# Inference : \n",
        "# We find that we have three classes with two types of Iris flowers overlapping each other"
      ],
      "execution_count": 12,
      "outputs": [
        {
          "output_type": "execute_result",
          "data": {
            "text/plain": [
              "<matplotlib.legend.Legend at 0x7f192deda470>"
            ]
          },
          "metadata": {
            "tags": []
          },
          "execution_count": 12
        },
        {
          "output_type": "display_data",
          "data": {
            "image/png": "[encoded data removed]",
            "text/plain": [
              "<Figure size 432x288 with 1 Axes>"
            ]
          },
          "metadata": {
            "tags": [],
            "needs_background": "light"
          }
        }
      ]
    },
    {
      "cell_type": "code",
      "metadata": {
        "id": "y_7majDgEW9R",
        "colab_type": "code",
        "colab": {
          "base_uri": "https://localhost:8080/",
          "height": 53
        },
        "outputId": "2a19e5bb-406d-450a-d403-b4faef8c3238"
      },
      "source": [
        "# DBSCAN Clustering\n",
        "\n",
        "# Declaring Model\n",
        "clt_DB = DBSCAN()\n",
        "\n",
        "# By Default Parameters in dbscan\n",
        "clt_DB\n",
        "\n",
        "# Inference :\n",
        "# By Default \n",
        "# eps = 0.5, if we increase this size of cluster will increase\n",
        "# distance metric = euclidean\n",
        "# min_samples = 5"
      ],
      "execution_count": 13,
      "outputs": [
        {
          "output_type": "execute_result",
          "data": {
            "text/plain": [
              "DBSCAN(algorithm='auto', eps=0.5, leaf_size=30, metric='euclidean',\n",
              "       metric_params=None, min_samples=5, n_jobs=None, p=None)"
            ]
          },
          "metadata": {
            "tags": []
          },
          "execution_count": 13
        }
      ]
    },
    {
      "cell_type": "code",
      "metadata": {
        "id": "tZ5As6LLFm-l",
        "colab_type": "code",
        "colab": {
          "base_uri": "https://localhost:8080/",
          "height": 233
        },
        "outputId": "8e253bc4-34e4-4fe1-ff82-1d2d5857e5f5"
      },
      "source": [
        "# Fitting the model\n",
        "model_dbscan = clt_DB.fit(iris_X)\n",
        "pred_dbscan = model_dbscan.labels_\n",
        "print(\"DBScan Output Cluster v1\")\n",
        "print(pred_dbscan)\n",
        "\n",
        "#Frequency count of the Output clusters\n",
        "unique, counts = np.unique(pred_dbscan, return_counts=True)\n",
        "freq_1 = dict(zip(unique, counts))\n",
        "print(\"Frequency of DBScan Output Cluster v1\")\n",
        "print(freq_1)\n",
        "\n",
        "# Original Cluster\n",
        "print(\"Original Cluster\")\n",
        "print(freq_2)\n",
        "\n",
        "# Inference :\n",
        "# Frequency count of 3 Clusters are\n",
        "# Cluster -1 = 17,Cluster 0 = 49 & Cluster 1 = 84\n",
        "# So two cluster (0 and 1) is the solution\n",
        "# -1 Cluster is the outlier\n",
        "# In short, we have 2 Groups (0,1) & One Outlier = -1\n",
        "# So 1 Group is missing because of default parameters"
      ],
      "execution_count": 14,
      "outputs": [
        {
          "output_type": "stream",
          "text": [
            "DBScan Output Cluster v1\n",
            "[ 0  0  0  0  0  0  0  0  0  0  0  0  0  0  0  0  0  0  0  0  0  0  0  0\n",
            "  0  0  0  0  0  0  0  0  0  0  0  0  0  0  0  0  0 -1  0  0  0  0  0  0\n",
            "  0  0  1  1  1  1  1  1  1 -1  1  1 -1  1  1  1  1  1  1  1 -1  1  1  1\n",
            "  1  1  1  1  1  1  1  1  1  1  1  1  1  1  1 -1  1  1  1  1  1 -1  1  1\n",
            "  1  1 -1  1  1  1  1  1  1 -1 -1  1 -1 -1  1  1  1  1  1  1  1 -1 -1  1\n",
            "  1  1 -1  1  1  1  1  1  1  1  1 -1  1  1 -1 -1  1  1  1  1  1  1  1  1\n",
            "  1  1  1  1  1  1]\n",
            "Frequency of DBScan Output Cluster v1\n",
            "{-1: 17, 0: 49, 1: 84}\n",
            "Original Cluster\n",
            "{0: 50, 1: 50, 2: 50}\n"
          ],
          "name": "stdout"
        }
      ]
    },
    {
      "cell_type": "code",
      "metadata": {
        "id": "NsdpTUWOPGYq",
        "colab_type": "code",
        "colab": {
          "base_uri": "https://localhost:8080/",
          "height": 286
        },
        "outputId": "086c6cbb-33b3-419f-9603-25c9e0ace5a8"
      },
      "source": [
        "# Visualizing Output\n",
        "\n",
        "# In the above output, we got value labels: ‘0’, ‘1’, ‘2’ and ‘-1’ \n",
        "# ‘-1’ label indicting outliers\n",
        "# We visualise this output to see how the data has been grouped into clusters.\n",
        "\n",
        "plt.scatter(iris_X[pred_dbscan == 0, 0], iris_X[pred_dbscan == 0, 1], \n",
        "            s = 80, c = 'orange', label = 'Iris-setosa')\n",
        "plt.scatter(iris_X[pred_dbscan == 1, 0], iris_X[pred_dbscan == 1, 1], \n",
        "            s = 80, c = 'yellow', label = 'Iris-versicolour')\n",
        "plt.scatter(iris_X[pred_dbscan == 2, 0], iris_X[pred_dbscan == 2, 1], \n",
        "            s = 80, c = 'green', label = 'Iris-virginica')\n",
        "plt.scatter(iris_X[pred_dbscan == -1, 0], iris_X[pred_dbscan == -1, 1], \n",
        "            s = 80, c = 'red', label = 'outlier')\n",
        "plt.legend()\n",
        "\n",
        "# Inference : \n",
        "# We find that by using DB Scan some observations are marked as outliers"
      ],
      "execution_count": 15,
      "outputs": [
        {
          "output_type": "execute_result",
          "data": {
            "text/plain": [
              "<matplotlib.legend.Legend at 0x7f192deae358>"
            ]
          },
          "metadata": {
            "tags": []
          },
          "execution_count": 15
        },
        {
          "output_type": "display_data",
          "data": {
            "image/png": "[encoded data removed]",
            "text/plain": [
              "<Figure size 432x288 with 1 Axes>"
            ]
          },
          "metadata": {
            "tags": [],
            "needs_background": "light"
          }
        }
      ]
    },
    {
      "cell_type": "code",
      "metadata": {
        "id": "-iufrNxuPKTk",
        "colab_type": "code",
        "colab": {
          "base_uri": "https://localhost:8080/",
          "height": 109
        },
        "outputId": "b12f1fdc-973c-457a-f2b6-7b99afce6a67"
      },
      "source": [
        "# Optimize value of eps through Elbow Method\n",
        "\n",
        "# eps is the maximum distance between two points. \n",
        "# It is this distance that the algorithm uses to decide on whether to club the two points together\n",
        "# We will make use of the average distances of every point to its k nearest neighbors\n",
        "# These k distances are then plotted in ascending order\n",
        "# The point where you see an elbow like bend corresponds to the optimal *eps* value\n",
        "# At that point, a sharp change in the distance occurs, and thus this point serves as a threshold\n",
        "\n",
        "#! pip install rpy2\n",
        "%reload_ext rpy2.ipython"
      ],
      "execution_count": 16,
      "outputs": [
        {
          "output_type": "stream",
          "text": [
            "/usr/local/lib/python3.6/dist-packages/rpy2/robjects/pandas2ri.py:14: FutureWarning: pandas.core.index is deprecated and will be removed in a future version.  The public classes are available in the top-level namespace.\n",
            "  from pandas.core.index import Index as PandasIndex\n",
            "/usr/local/lib/python3.6/dist-packages/rpy2/robjects/pandas2ri.py:34: UserWarning: pandas >= 1.0 is not supported.\n",
            "  warnings.warn('pandas >= 1.0 is not supported.')\n"
          ],
          "name": "stderr"
        }
      ]
    },
    {
      "cell_type": "code",
      "metadata": {
        "id": "ZfUAbRraPVb5",
        "colab_type": "code",
        "colab": {
          "base_uri": "https://localhost:8080/",
          "height": 497
        },
        "outputId": "00d11927-1cab-4fd2-a7c2-8aa49ce6e152"
      },
      "source": [
        "%%R\n",
        "#install.packages('dbscan')\n",
        "library(dbscan)\n",
        "data(iris)\n",
        "iris <- as.matrix(iris[,1:4])\n",
        "dbscan::kNNdistplot(iris[, -c(5,4,3)], k =  4)\n",
        "\n",
        "# Inference : \n",
        "# It looks like 0.42 is the optimal value for eps\n",
        "abline(h = 0.42, lty = 2)"
      ],
      "execution_count": 17,
      "outputs": [
        {
          "output_type": "display_data",
          "data": {
            "image/png": "[encoded data removed]"
          },
          "metadata": {
            "tags": []
          }
        }
      ]
    },
    {
      "cell_type": "code",
      "metadata": {
        "id": "ZXs4lQmTHcq5",
        "colab_type": "code",
        "colab": {
          "base_uri": "https://localhost:8080/",
          "height": 430
        },
        "outputId": "3cbb0fc7-e4ff-4014-d85b-ff5b98a616bb"
      },
      "source": [
        "# Now updating value of eps = 0.42\n",
        "\n",
        "clt_DB = DBSCAN(eps=0.42)\n",
        "model_dbscan = clt_DB.fit(iris_X)\n",
        "pred_dbscan = model_dbscan.labels_\n",
        "print('Original Cluster')\n",
        "print(freq_2)\n",
        "# Frequency count of the Output clusters\n",
        "unique, counts = np.unique(pred_dbscan, return_counts=True)\n",
        "print('DBScan Output Cluster v2')\n",
        "print(dict(zip(unique, counts)))\n",
        "# Silhouette Score\n",
        "print('Silhouette Score for 3 Clusters')\n",
        "print(silhouette_score(iris_X,pred_dbscan))\n",
        "\n",
        "print('\\n')\n",
        "\n",
        "# Visualize \n",
        "plt.scatter(iris_X[pred_dbscan == 0, 0], iris_X[pred_dbscan == 0, 1], \n",
        "            s = 80, c = 'orange', label = 'Iris-setosa')\n",
        "plt.scatter(iris_X[pred_dbscan == 1, 0], iris_X[pred_dbscan == 1, 1], \n",
        "            s = 80, c = 'yellow', label = 'Iris-versicolour')\n",
        "plt.scatter(iris_X[pred_dbscan == 2, 0], iris_X[pred_dbscan == 2, 1], \n",
        "            s = 80, c = 'green', label = 'Iris-virginica')\n",
        "plt.scatter(iris_X[pred_dbscan == -1, 0], iris_X[pred_dbscan == -1, 1], \n",
        "            s = 80, c = 'red', label = 'outlier')\n",
        "plt.legend()\n",
        "\n",
        "# Inference : \n",
        "# In DBScan Cluster output Version 1,one class was missing i.e, no '2' class \n",
        "# But in DBScan New Output Cluster Version 2, distribution is much better\n",
        "# So we should check and set parameters correctly i.e, eps\n",
        "# All which are not classified in any Cluster are classified as OUTLIER\n",
        "# Silhouette Score is 0.35 which is too less"
      ],
      "execution_count": 18,
      "outputs": [
        {
          "output_type": "stream",
          "text": [
            "Original Cluster\n",
            "{0: 50, 1: 50, 2: 50}\n",
            "DBScan Output Cluster v2\n",
            "{-1: 29, 0: 48, 1: 37, 2: 36}\n",
            "Silhouette Score for 3 Clusters\n",
            "0.3578915366469415\n",
            "\n",
            "\n"
          ],
          "name": "stdout"
        },
        {
          "output_type": "execute_result",
          "data": {
            "text/plain": [
              "<matplotlib.legend.Legend at 0x7f193f282860>"
            ]
          },
          "metadata": {
            "tags": []
          },
          "execution_count": 18
        },
        {
          "output_type": "display_data",
          "data": {
            "image/png": "[encoded data removed]",
            "text/plain": [
              "<Figure size 432x288 with 1 Axes>"
            ]
          },
          "metadata": {
            "tags": [],
            "needs_background": "light"
          }
        }
      ]
    }
  ]
}